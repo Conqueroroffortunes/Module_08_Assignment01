{
  "nbformat": 4,
  "nbformat_minor": 0,
  "metadata": {
    "colab": {
      "provenance": [],
      "authorship_tag": "ABX9TyNsQTIsnjamArwZVI86/iyl",
      "include_colab_link": true
    },
    "kernelspec": {
      "name": "python3",
      "display_name": "Python 3"
    },
    "language_info": {
      "name": "python"
    }
  },
  "cells": [
    {
      "cell_type": "markdown",
      "metadata": {
        "id": "view-in-github",
        "colab_type": "text"
      },
      "source": [
        "<a href=\"https://colab.research.google.com/github/Conqueroroffortunes/none_01/blob/main/Module_08.ipynb\" target=\"_parent\"><img src=\"https://colab.research.google.com/assets/colab-badge.svg\" alt=\"Open In Colab\"/></a>"
      ]
    },
    {
      "cell_type": "markdown",
      "source": [
        "Q 01"
      ],
      "metadata": {
        "id": "UccaRlFv35GH"
      }
    },
    {
      "cell_type": "code",
      "source": [
        "# Q_01) The keyword used to create a function in Python is \"def\".\n",
        "\n",
        "# Below is the function to return a list of odd numbers in the range of 1 to 25.\n",
        "\n",
        "def odd_numbers():\n",
        "  odd_list = []\n",
        "  for num in range(1, 26):\n",
        "    if num % 2 != 0:\n",
        "      odd_list.append(num)\n",
        "  return odd_list\n",
        "\n",
        "result = odd_numbers()\n",
        "print(result)"
      ],
      "metadata": {
        "colab": {
          "base_uri": "https://localhost:8080/"
        },
        "id": "wzID1duS2sFO",
        "outputId": "d9724ccc-942b-4e92-f922-bae29790f5aa"
      },
      "execution_count": 14,
      "outputs": [
        {
          "output_type": "stream",
          "name": "stdout",
          "text": [
            "[1, 3, 5, 7, 9, 11, 13, 15, 17, 19, 21, 23, 25]\n"
          ]
        }
      ]
    },
    {
      "cell_type": "markdown",
      "source": [
        "Q 02 )"
      ],
      "metadata": {
        "id": "Ow8k7Isc4GqS"
      }
    },
    {
      "cell_type": "code",
      "source": [
        "''' Q_02)\n",
        "(a) args and kwargs are special syntaxes in Python that allow a function to accept a\n",
        "variable number of arguments.\n",
        "(b) args is used to pass a variable number of non-keyword arguments to a function.\n",
        "These arguments are collected into a tuple.\n",
        "(c) kwargs is used to pass a variable number of keyword arguments to a function.\n",
        "These arguments are collected into a dictionary (key,value pairs).\n",
        "\n",
        "Below is the function each for *args and **kwargs to demonstrate their use.'''\n",
        "\n",
        "def my_sum(*args):\n",
        "  '''This function Calculates the sum of any number of arguments.'''\n",
        "  sum = 0\n",
        "  multi=1\n",
        "  for num in args:\n",
        "    sum += num\n",
        "    multi*=num\n",
        "  return sum,multi\n",
        "result = my_sum(1, 2, 3, 4, 5)\n",
        "print(result)\n",
        "\n",
        "\n",
        "def info(**kwargs):\n",
        "  '''This function Prints key-value pairs.'''\n",
        "  return kwargs\n",
        "info(name=\"sudh\", age=30, city=\"Madras\")\n",
        "\n"
      ],
      "metadata": {
        "colab": {
          "base_uri": "https://localhost:8080/"
        },
        "id": "sxZd_73j3iem",
        "outputId": "5dd3818a-bcfd-4d89-b45f-c074b6186be5"
      },
      "execution_count": 15,
      "outputs": [
        {
          "output_type": "stream",
          "name": "stdout",
          "text": [
            "(15, 120)\n"
          ]
        },
        {
          "output_type": "execute_result",
          "data": {
            "text/plain": [
              "{'name': 'sudh', 'age': 30, 'city': 'Madras'}"
            ]
          },
          "metadata": {},
          "execution_count": 15
        }
      ]
    },
    {
      "cell_type": "markdown",
      "source": [
        "Q_03)"
      ],
      "metadata": {
        "id": "YvXmt1p1syrx"
      }
    },
    {
      "cell_type": "code",
      "source": [
        "'''Q_03 )\n",
        "  Iterators in Python:\n",
        "    An iterator in Python is an object that can be iterated over.\n",
        "    Where we can use next(),The next() function returns the next item in an iterator.\n",
        "    This means you can go through all the elements of an iterator one by one.\n",
        "\n",
        "  Methods for Iterators:\n",
        "    iter() - This method is used to initialize the iterator object.(Converts to Iterator)\n",
        "    next() - This method is used to get the next item from the iterator.\n",
        "\n",
        "Below using next() to print the first five elements of the given list [2, 4, 6, 8, 10, 12, 14,16, 18, 20].\n",
        "'''\n",
        "\n",
        "my_list = [2, 4, 6, 8, 10, 12, 14, 16, 18, 20]\n",
        "my_iterator = iter(my_list)       # Converting to iterator object\n",
        "for i in range(5):\n",
        "  print(next(my_iterator))\n",
        "\n",
        "\n"
      ],
      "metadata": {
        "colab": {
          "base_uri": "https://localhost:8080/"
        },
        "id": "GTsJI3L1s6K0",
        "outputId": "6a3b59e5-4a6e-4ca0-8877-b26f48e743f8"
      },
      "execution_count": 16,
      "outputs": [
        {
          "output_type": "stream",
          "name": "stdout",
          "text": [
            "2\n",
            "4\n",
            "6\n",
            "8\n",
            "10\n"
          ]
        }
      ]
    },
    {
      "cell_type": "markdown",
      "source": [
        "Q_04)"
      ],
      "metadata": {
        "id": "txpLqUT71-6S"
      }
    },
    {
      "cell_type": "code",
      "source": [
        "''' Q_04)\n",
        "    Generator Function :\n",
        "      A generator function is a special type of function that returns an iterator.\n",
        "    Instead of returning all the elements at once, it yields them one at a time.\n",
        "    This is particularly useful for dealing with large datasets or infinite sequences,\n",
        "    as it avoids creating a complete list in memory.( Afficient way to Utilize the memory)\n",
        "\n",
        "    The \"yield\" Keyword:\n",
        "      The yield keyword is used to indicate where the function should pause and return the current value.\n",
        "    When the function is called again, it resumes from where it left off, allowing you to iterate\n",
        "    over the values one by one.\n",
        "\n",
        "    Below is an example of a generator function,\n",
        "'''\n",
        "def fibonacci_generator():\n",
        "  '''This Function Generates Fibonacci numbers.'''\n",
        "  a, b = 0, 1\n",
        "  while True:\n",
        "    yield a\n",
        "    a, b = b, a + b\n",
        "fib = fibonacci_generator()\n",
        "for i in range(10):\n",
        "  print(next(fib))\n",
        "\n"
      ],
      "metadata": {
        "colab": {
          "base_uri": "https://localhost:8080/"
        },
        "id": "Mij0s-jV4RIr",
        "outputId": "4e3f687b-6f2c-4edc-b7f8-218c5bcb4b2c"
      },
      "execution_count": 17,
      "outputs": [
        {
          "output_type": "stream",
          "name": "stdout",
          "text": [
            "0\n",
            "1\n",
            "1\n",
            "2\n",
            "3\n",
            "5\n",
            "8\n",
            "13\n",
            "21\n",
            "34\n"
          ]
        }
      ]
    },
    {
      "cell_type": "markdown",
      "source": [
        "Q_05)"
      ],
      "metadata": {
        "id": "WVOs8qll5Ill"
      }
    },
    {
      "cell_type": "code",
      "source": [
        "''' Q_05) Below using a generator function for prime numbers less than 1000 and by Using  the next() method to print the\n",
        "first 20 prime numbers.\n",
        "\n",
        "'''\n",
        "\n",
        "def prime_numbers():\n",
        "  '''This Function Generates prime numbers less than 1000.'''\n",
        "  num = 2\n",
        "  while num < 1000:\n",
        "    is_prime = True\n",
        "    for i in range(2, int(num**0.5) + 1):\n",
        "      if num % i == 0:\n",
        "        is_prime = False\n",
        "        break\n",
        "    if is_prime:\n",
        "      yield num\n",
        "    num += 1\n",
        "\n",
        "# Create a generator object\n",
        "primes = prime_numbers()\n",
        "\n",
        "# Print the first 20 prime numbers\n",
        "for _ in range(20):\n",
        "  print(next(primes))\n"
      ],
      "metadata": {
        "colab": {
          "base_uri": "https://localhost:8080/"
        },
        "id": "MtY3WGbX5JJ3",
        "outputId": "aa5e438b-e800-40c3-c38c-9535cbd1325f"
      },
      "execution_count": 23,
      "outputs": [
        {
          "output_type": "stream",
          "name": "stdout",
          "text": [
            "2\n",
            "3\n",
            "5\n",
            "7\n",
            "11\n",
            "13\n",
            "17\n",
            "19\n",
            "23\n",
            "29\n",
            "31\n",
            "37\n",
            "41\n",
            "43\n",
            "47\n",
            "53\n",
            "59\n",
            "61\n",
            "67\n",
            "71\n"
          ]
        }
      ]
    },
    {
      "cell_type": "markdown",
      "source": [
        " Q_06)"
      ],
      "metadata": {
        "id": "sOA2w5ib7iPy"
      }
    },
    {
      "cell_type": "code",
      "source": [
        "''' Q_06) Below is a python program to print the first 10 Fibonacci numbers using a while loop.\n",
        "'''\n",
        "\n",
        "def fibonacci_generator():\n",
        "  '''This Function Generates Fibonacci numbers.'''\n",
        "  a, b = 0, 1\n",
        "  while True:\n",
        "    yield a\n",
        "    a, b = b, a + b\n",
        "fib = fibonacci_generator()\n",
        "for i in range(10):\n",
        "  print(next(fib))"
      ],
      "metadata": {
        "colab": {
          "base_uri": "https://localhost:8080/"
        },
        "id": "jCFI34gW7h22",
        "outputId": "9a09871d-8cda-4863-bcfd-0e02726582c3"
      },
      "execution_count": 25,
      "outputs": [
        {
          "output_type": "stream",
          "name": "stdout",
          "text": [
            "0\n",
            "1\n",
            "1\n",
            "2\n",
            "3\n",
            "5\n",
            "8\n",
            "13\n",
            "21\n",
            "34\n"
          ]
        }
      ]
    },
    {
      "cell_type": "markdown",
      "source": [
        "Q_07)"
      ],
      "metadata": {
        "id": "NwfoOKD58DGt"
      }
    },
    {
      "cell_type": "code",
      "source": [
        "''' Q_07) Below is the code of a List Comprehension to iterate through the given string: ‘pwskills’.\n",
        "Expected output: ['p', 'w', 's', 'k', 'i', 'l', 'l', 's']\n",
        "'''\n",
        "\n",
        "str = 'pwskills'\n",
        "iter_str = iter(str)\n",
        "len_str = len(str)\n",
        "l=[];i=0\n",
        "while i < len_str :\n",
        "  l.append(next(iter_str))\n",
        "  i+=1\n",
        "print(l)"
      ],
      "metadata": {
        "colab": {
          "base_uri": "https://localhost:8080/"
        },
        "id": "unBj7RYe8GmA",
        "outputId": "e1130e79-840d-4e11-cfee-36784c52ad7f"
      },
      "execution_count": 31,
      "outputs": [
        {
          "output_type": "stream",
          "name": "stdout",
          "text": [
            "['p', 'w', 's', 'k', 'i', 'l', 'l', 's']\n"
          ]
        }
      ]
    },
    {
      "cell_type": "markdown",
      "source": [
        " Q_08)"
      ],
      "metadata": {
        "id": "toneAK8B9moD"
      }
    },
    {
      "cell_type": "code",
      "source": [
        "''' Q_08)   Below is a code to check whether a given number is Palindrome or not using a while loop.\n",
        "\n",
        "'''\n",
        "\n",
        "def is_palindrome(num):\n",
        "  '''Checks if a number is a palindrome.'''\n",
        "  og_num = num\n",
        "  reversed_num = 0\n",
        "  while num > 0:\n",
        "    digit = num % 10\n",
        "    reversed_num = (reversed_num * 10) + digit\n",
        "    num //= 10\n",
        "  return og_num == reversed_num\n",
        "numb = int(input(\"Enter a number: \"))\n",
        "if is_palindrome(numb):\n",
        "  print(numb, \"is a palindrome.\")\n",
        "else:\n",
        "  print(numb, \"is not a palindrome.\")\n"
      ],
      "metadata": {
        "colab": {
          "base_uri": "https://localhost:8080/"
        },
        "id": "h_QENu199riX",
        "outputId": "e242e16b-480c-4522-a6d7-4e8c26bfe446"
      },
      "execution_count": 37,
      "outputs": [
        {
          "output_type": "stream",
          "name": "stdout",
          "text": [
            "Enter a number: 14541\n",
            "14541 is a palindrome.\n"
          ]
        }
      ]
    },
    {
      "cell_type": "markdown",
      "source": [
        "Q_09)"
      ],
      "metadata": {
        "id": "IorDb-Gs_F99"
      }
    },
    {
      "cell_type": "code",
      "source": [
        "''' Q_09) Below is a code to print odd numbers from 1 to 100 using list comprehension.\n",
        "\n",
        "'''\n",
        "\n",
        "odd_numbers = [num for num in range(1, 101, 2)]\n",
        "print(odd_numbers)"
      ],
      "metadata": {
        "colab": {
          "base_uri": "https://localhost:8080/"
        },
        "id": "yZial4L6_MtG",
        "outputId": "10954836-c44d-4e50-9063-2a9235362db0"
      },
      "execution_count": 39,
      "outputs": [
        {
          "output_type": "stream",
          "name": "stdout",
          "text": [
            "[1, 3, 5, 7, 9, 11, 13, 15, 17, 19, 21, 23, 25, 27, 29, 31, 33, 35, 37, 39, 41, 43, 45, 47, 49, 51, 53, 55, 57, 59, 61, 63, 65, 67, 69, 71, 73, 75, 77, 79, 81, 83, 85, 87, 89, 91, 93, 95, 97, 99]\n"
          ]
        }
      ]
    }
  ]
}