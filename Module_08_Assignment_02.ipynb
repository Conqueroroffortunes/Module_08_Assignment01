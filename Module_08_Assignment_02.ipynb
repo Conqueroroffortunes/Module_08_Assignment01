{
  "nbformat": 4,
  "nbformat_minor": 0,
  "metadata": {
    "colab": {
      "provenance": [],
      "authorship_tag": "ABX9TyNoEP8CAsisBRMHmVhmfxaO",
      "include_colab_link": true
    },
    "kernelspec": {
      "name": "python3",
      "display_name": "Python 3"
    },
    "language_info": {
      "name": "python"
    }
  },
  "cells": [
    {
      "cell_type": "markdown",
      "metadata": {
        "id": "view-in-github",
        "colab_type": "text"
      },
      "source": [
        "<a href=\"https://colab.research.google.com/github/Conqueroroffortunes/Module_08_Assignment01/blob/main/Module_08_Assignment_02.ipynb\" target=\"_parent\"><img src=\"https://colab.research.google.com/assets/colab-badge.svg\" alt=\"Open In Colab\"/></a>"
      ]
    },
    {
      "cell_type": "markdown",
      "source": [
        " Q_01)"
      ],
      "metadata": {
        "id": "Zaq2uieNaOnc"
      }
    },
    {
      "cell_type": "code",
      "execution_count": 11,
      "metadata": {
        "colab": {
          "base_uri": "https://localhost:8080/"
        },
        "id": "xhUkDFhHaG0w",
        "outputId": "341e6f11-69cc-454c-dc9e-fe19dbc8c599"
      },
      "outputs": [
        {
          "output_type": "stream",
          "name": "stdout",
          "text": [
            "[('Virat Kohli', 24936), ('Jack Kallis', 25534), ('Ricky Ponting', 27483), ('Sachin Tendulkar', 34357)]\n"
          ]
        }
      ],
      "source": [
        "''' Q_01) Below is a python program to sort the given list of tuples based on integer value using a lambda function.\n",
        "  [('Sachin Tendulkar', 34357), ('Ricky Ponting', 27483), ('Jack Kallis', 25534), ('Virat Kohli', 24936)]\n",
        "\n",
        "'''\n",
        "\n",
        "l = [('Sachin Tendulkar', 34357), ('Ricky Ponting', 27483), ('Jack Kallis', 25534), ('Virat Kohli', 24936)]\n",
        "sorted_l = lambda l : sorted(l, key=lambda x: x[1])\n",
        "print(sorted_l(l))"
      ]
    },
    {
      "cell_type": "markdown",
      "source": [
        " Q_02)"
      ],
      "metadata": {
        "id": "dbjLgbuUatoZ"
      }
    },
    {
      "cell_type": "code",
      "source": [
        "''' Q_02) Below is a Python Program to find the squares of all the numbers in the given list of integers using\n",
        "lambda and map functions. [1, 2, 3, 4, 5, 6, 7, 8, 9, 10]\n",
        "'''\n",
        "\n",
        "l = [1, 2, 3, 4, 5, 6, 7, 8, 9, 10]\n",
        "sq_list = list ( map ( lambda x : x**2 , l ) )\n",
        "print(sq_list)\n"
      ],
      "metadata": {
        "colab": {
          "base_uri": "https://localhost:8080/"
        },
        "id": "gmgjX1yAaxVl",
        "outputId": "48f68014-e50c-466f-c3b1-ef196d2479e3"
      },
      "execution_count": 14,
      "outputs": [
        {
          "output_type": "stream",
          "name": "stdout",
          "text": [
            "[1, 4, 9, 16, 25, 36, 49, 64, 81, 100]\n"
          ]
        }
      ]
    },
    {
      "cell_type": "markdown",
      "source": [
        " Q_03)"
      ],
      "metadata": {
        "id": "CV_v5FS_dw-q"
      }
    },
    {
      "cell_type": "code",
      "source": [
        "''' Q_03) Below is a python program to convert the given list of integers into a tuple of strings. Use map and\n",
        "    lambda functions\n",
        "        Given String: [1, 2, 3, 4, 5, 6, 7, 8, 9, 10]\n",
        "        Expected output: ('1', '2', '3', '4', '5', '6', '7', '8', '9', '10')\n",
        "'''\n",
        "\n",
        "l1 = [1, 2, 3, 4, 5, 6, 7, 8, 9, 10]\n",
        "tup_str = tuple(map(lambda x : str(x),l1))\n",
        "print(tup_str)"
      ],
      "metadata": {
        "colab": {
          "base_uri": "https://localhost:8080/"
        },
        "id": "pl15AhL-dzpd",
        "outputId": "26c8ca31-f924-4cf1-9fba-4a08f5a0f8df"
      },
      "execution_count": 15,
      "outputs": [
        {
          "output_type": "stream",
          "name": "stdout",
          "text": [
            "('1', '2', '3', '4', '5', '6', '7', '8', '9', '10')\n"
          ]
        }
      ]
    },
    {
      "cell_type": "markdown",
      "source": [
        " Q_04)"
      ],
      "metadata": {
        "id": "O5Ad18FpenRJ"
      }
    },
    {
      "cell_type": "code",
      "source": [
        "''' Q_04) Below is a python program using reduce function to compute the product of a list containing numbers\n",
        "          from 1 to 25.\n",
        "'''\n",
        "\n",
        "from functools import reduce\n",
        "l2 = list(range(1,26)) ; print(\"The Given List is :\",l2)\n",
        "ans_list = reduce(lambda x,y : x*y , l2)   ;   print(\"\\nThe Result is :\",ans_list)\n",
        "\n"
      ],
      "metadata": {
        "colab": {
          "base_uri": "https://localhost:8080/"
        },
        "id": "-aUQM8SaepWo",
        "outputId": "cdd7f309-6fb3-456d-c493-3fcdd6c8cbd6"
      },
      "execution_count": 31,
      "outputs": [
        {
          "output_type": "stream",
          "name": "stdout",
          "text": [
            "The Given List is : [1, 2, 3, 4, 5, 6, 7, 8, 9, 10, 11, 12, 13, 14, 15, 16, 17, 18, 19, 20, 21, 22, 23, 24, 25]\n",
            "\n",
            "The Result is : 15511210043330985984000000\n"
          ]
        }
      ]
    },
    {
      "cell_type": "markdown",
      "source": [
        "  Q_05)"
      ],
      "metadata": {
        "id": "WrmoY3Zth69e"
      }
    },
    {
      "cell_type": "code",
      "source": [
        "'''  Q_05) Below is a python program to filter the numbers in a given list that are divisible by 2 and 3 using the\n",
        "filter function.  [2, 3, 6, 9, 27, 60, 90, 120, 55, 46]\n",
        "'''\n",
        "\n",
        "l3 = [2, 3, 6, 9, 27, 60, 90, 120, 55, 46]\n",
        "div2n3_lst = list(filter(lambda x : x%2==0 and x%3==0 ,l3))\n",
        "print(\"Divisible by 2 and 3 are : \",div2n3_lst)"
      ],
      "metadata": {
        "colab": {
          "base_uri": "https://localhost:8080/"
        },
        "id": "7Lb7qS8JgzXv",
        "outputId": "b82c4c6f-fad9-4d5c-9daf-2db14a530947"
      },
      "execution_count": 37,
      "outputs": [
        {
          "output_type": "stream",
          "name": "stdout",
          "text": [
            "Divisible by 2 and 3 are :  [6, 60, 90, 120]\n"
          ]
        }
      ]
    },
    {
      "cell_type": "markdown",
      "source": [
        "  Q_06)"
      ],
      "metadata": {
        "id": "zMlGQt-5jyzT"
      }
    },
    {
      "cell_type": "code",
      "source": [
        "''' Q_06) Below is a python program to find palindromes in the given list of strings using lambda and filter\n",
        "          function.   ['python', 'php', 'aba', 'radar', 'level']\n",
        "'''\n",
        "\n",
        "lst = ['python', 'php', 'aba', 'radar', 'level']\n",
        "palindromes = list(filter(lambda x : x == x[::-1],lst))\n",
        "print(palindromes)"
      ],
      "metadata": {
        "colab": {
          "base_uri": "https://localhost:8080/"
        },
        "id": "s19DZFucja9j",
        "outputId": "14803785-f2b2-4c40-bdd8-b5ec0a788043"
      },
      "execution_count": 38,
      "outputs": [
        {
          "output_type": "stream",
          "name": "stdout",
          "text": [
            "['php', 'aba', 'radar', 'level']\n"
          ]
        }
      ]
    }
  ]
}